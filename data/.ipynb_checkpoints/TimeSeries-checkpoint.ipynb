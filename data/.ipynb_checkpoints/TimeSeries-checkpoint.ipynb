{
 "cells": [
  {
   "cell_type": "code",
   "execution_count": 1,
   "metadata": {},
   "outputs": [],
   "source": [
    "import pandas as pd\n",
    "import numpy as np\n",
    "import os"
   ]
  },
  {
   "cell_type": "code",
   "execution_count": 32,
   "metadata": {},
   "outputs": [],
   "source": [
    "class TimeSeries:\n",
    "    def __init__(self):\n",
    "        self.directory = os.getcwd()\n",
    "        self.file = 'Database.xlsx'\n",
    "        self.energy = pd.DataFrame()\n",
    "        self.temperature = pd.DataFrame()\n",
    "        self.wind_speed = pd.DataFrame()\n",
    "        \n",
    "    def get_energy_data(self, process_data = True):\n",
    "        if os.path.isdir(self.directory):\n",
    "            self.energy = pd.read_excel(os.path.join(self.directory, self.file), sheet_name = 'Wind Parks')\n",
    "            if process_data:\n",
    "                self.energy = self._process_data(self.energy)\n",
    "                \n",
    "        return self.energy\n",
    "    \n",
    "    def get_meteorological_data(self, process_data = True):\n",
    "        if os.path.isdir(self.directory):\n",
    "            self.temperature = pd.read_excel(os.path.join(self.directory, self.file), sheet_name = 'Meteorological') \n",
    "            self.wind_speed['Date'] = self.temperature['Date']\n",
    "            self.wind_speed['Average Wind Speed'] = self.temperature['Average Wind Speed']\n",
    "            self.temperature.drop(columns = ['Average Wind Speed'], inplace = True)\n",
    "            \n",
    "            if process_data:\n",
    "                self.temperature = _process_data(self.temperature)\n",
    "                self.wind_speed = _process_data(self.wind_speed)\n",
    "                \n",
    "        return self.temperature, self.wind_speed\n",
    "    \n",
    "    def _process_data(self, dataframe):\n",
    "        for column in dataframe.select_dtypes(include = np.number):\n",
    "            dataframe[column].fillna(dataframe[column].rolling(12, min_periods = 1).mean(), inplace = True)\n",
    "        return dataframe"
   ]
  }
 ],
 "metadata": {
  "kernelspec": {
   "display_name": "Python 3",
   "language": "python",
   "name": "python3"
  },
  "language_info": {
   "codemirror_mode": {
    "name": "ipython",
    "version": 3
   },
   "file_extension": ".py",
   "mimetype": "text/x-python",
   "name": "python",
   "nbconvert_exporter": "python",
   "pygments_lexer": "ipython3",
   "version": "3.6.5"
  }
 },
 "nbformat": 4,
 "nbformat_minor": 2
}
